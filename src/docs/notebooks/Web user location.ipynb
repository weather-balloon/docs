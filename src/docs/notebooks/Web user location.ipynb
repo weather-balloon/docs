{
 "cells": [
  {
   "cell_type": "markdown",
   "metadata": {},
   "source": [
    "# Getting a web user's location"
   ]
  },
  {
   "cell_type": "markdown",
   "metadata": {
    "toc": true
   },
   "source": [
    "<h1>Table of Contents<span class=\"tocSkip\"></span></h1>\n",
    "<div class=\"toc\"><ul class=\"toc-item\"><li><span><a href=\"#Overview\" data-toc-modified-id=\"Overview-1\"><span class=\"toc-item-num\">1&nbsp;&nbsp;</span>Overview</a></span><ul class=\"toc-item\"><li><span><a href=\"#User-location\" data-toc-modified-id=\"User-location-1.1\"><span class=\"toc-item-num\">1.1&nbsp;&nbsp;</span>User location</a></span></li><li><span><a href=\"#Weather-station-location\" data-toc-modified-id=\"Weather-station-location-1.2\"><span class=\"toc-item-num\">1.2&nbsp;&nbsp;</span>Weather station location</a></span></li><li><span><a href=\"#Weather-forecast-location\" data-toc-modified-id=\"Weather-forecast-location-1.3\"><span class=\"toc-item-num\">1.3&nbsp;&nbsp;</span>Weather forecast location</a></span></li></ul></li><li><span><a href=\"#Bringing-the-data-together\" data-toc-modified-id=\"Bringing-the-data-together-2\"><span class=\"toc-item-num\">2&nbsp;&nbsp;</span>Bringing the data together</a></span></li><li><span><a href=\"#The-Challenges\" data-toc-modified-id=\"The-Challenges-3\"><span class=\"toc-item-num\">3&nbsp;&nbsp;</span>The Challenges</a></span></li><li><span><a href=\"#Data-sources\" data-toc-modified-id=\"Data-sources-4\"><span class=\"toc-item-num\">4&nbsp;&nbsp;</span>Data sources</a></span><ul class=\"toc-item\"><li><span><a href=\"#GeoLocation-API\" data-toc-modified-id=\"GeoLocation-API-4.1\"><span class=\"toc-item-num\">4.1&nbsp;&nbsp;</span>GeoLocation API</a></span></li><li><span><a href=\"#GeoNames:-Postcodes\" data-toc-modified-id=\"GeoNames:-Postcodes-4.2\"><span class=\"toc-item-num\">4.2&nbsp;&nbsp;</span>GeoNames: Postcodes</a></span></li><li><span><a href=\"#Australian-Bureau-of-Meteorology-(BOM)\" data-toc-modified-id=\"Australian-Bureau-of-Meteorology-(BOM)-4.3\"><span class=\"toc-item-num\">4.3&nbsp;&nbsp;</span>Australian Bureau of Meteorology (BOM)</a></span></li><li><span><a href=\"#Azure-Maps\" data-toc-modified-id=\"Azure-Maps-4.4\"><span class=\"toc-item-num\">4.4&nbsp;&nbsp;</span>Azure Maps</a></span></li></ul></li><li><span><a href=\"#Outcomes\" data-toc-modified-id=\"Outcomes-5\"><span class=\"toc-item-num\">5&nbsp;&nbsp;</span>Outcomes</a></span></li><li><span><a href=\"#Citations\" data-toc-modified-id=\"Citations-6\"><span class=\"toc-item-num\">6&nbsp;&nbsp;</span>Citations</a></span></li></ul></div>"
   ]
  },
  {
   "cell_type": "markdown",
   "metadata": {},
   "source": [
    "## Overview\n",
    "\n",
    "For the web UI I wanted to have a static site calling into APIs.\n",
    "\n",
    "The user requirement can be described in the following user story:\n",
    "\n",
    "**As a user I want to locate my nearest weather station so that I can access\n",
    "observations and forecasts relevant to me**\n",
    "\n",
    "The core aspects of the work are:\n",
    "\n",
    "1. Determine the user's location\n",
    "2. Find the nearest weather station\n",
    "3. Find the relevant forecast district/region"
   ]
  },
  {
   "cell_type": "markdown",
   "metadata": {},
   "source": [
    "### User location\n",
    "\n",
    "We're likely to be able to determine the user's location via either :\n",
    "\n",
    "- Use the [HTML 5 Geolocation API](https://developer.mozilla.org/en-US/docs/Web/API/Geolocation_API)\n",
    "- Ask the user to enter their postcode or town\n",
    "- Ask the user to click on a map (e.g. to select a station or area)"
   ]
  },
  {
   "cell_type": "markdown",
   "metadata": {},
   "source": [
    "### Weather station location\n",
    "\n",
    "Various weather agencies list their station details - e.g.:\n",
    "\n",
    "* [Australian BoM](http://www.bom.gov.au/climate/data/stations/)\n",
    "* [UK Met Office](https://www.metoffice.gov.uk/public/weather/climate-network/#?tab=climateNetwork)\n",
    "\n",
    "These will have the GPS co-ordinate of the station."
   ]
  },
  {
   "cell_type": "markdown",
   "metadata": {},
   "source": [
    "### Weather forecast location\n",
    "\n",
    "These appear to mainly utilise a town/area name (e.g. \"Brisbane\") but can also\n",
    "have an associated [shape file](https://en.wikipedia.org/wiki/Shapefile) that\n",
    "designates the forecast area.\n",
    "\n",
    "The Australian BoM describes the forecast spatial data in [a brief\n",
    "guide](http://reg.bom.gov.au/catalogue/spatialdata.pdf). The shape files are\n",
    "available via the [BOM's FTP site](ftp://ftp.bom.gov.au/anon/home/adfd/spatial/) under the `IDM00001.*` files."
   ]
  },
  {
   "cell_type": "markdown",
   "metadata": {},
   "source": [
    "## Bringing the data together\n",
    "\n",
    "Once I know where the user is, I could use the `Haversine\n",
    "formula <https://en.wikipedia.org/wiki/Haversine_formula>`_ to determine their\n",
    "nearest weather station. The trouble with the Haversine approach is that I'll\n",
    "need to limit the stations in some manner (e.g. using a lat/long box based on\n",
    "some calculation). I could assume that if there's nothing within 100km of the\n",
    "user then the system will need to let the user know that there's no available\n",
    "data. Alternatively, I could use a map/GIS service to do the heavy lifting for\n",
    "me.\n",
    "\n",
    "For an Azure Solution, Azure Search supports the [Edm.GeographyPoint](https://docs.microsoft.com/en-us/azure/search/search-what-is-an-index) field type.\n",
    "\n",
    "For forecasts, I'd like to try and work out the user's forecast area by placing\n",
    "them within the shapefile. I don't know how to do this so that'll be a big\n",
    "challenge.\n",
    "\n",
    "As an aside, [SpatiaLite](https://www.gaia-gis.it/fossil/libspatialite/index) is an\n",
    "extension to SQLite and could be used for local or even Web App dev."
   ]
  },
  {
   "cell_type": "markdown",
   "metadata": {},
   "source": [
    "## The Challenges\n",
    "\n",
    "This workbench aims to explore the following:\n",
    "\n",
    "* How do I get the user's current location via the HTML 5 Geolocation API?\n",
    "* Can I use the GeoNames data to locate a user?\n",
    "* Can I Azure Maps data to locate a user?\n",
    "* Can I use a postcode listing to locate a user?\n",
    "* Once I have the location, can I work out their closest weather station?\n",
    "* Once I have the location, can I work out their forecast region?"
   ]
  },
  {
   "cell_type": "markdown",
   "metadata": {},
   "source": [
    "## Data sources"
   ]
  },
  {
   "cell_type": "markdown",
   "metadata": {},
   "source": [
    "### GeoLocation API\n",
    "\n",
    "The API worked as advertised (hardly surprising). \n",
    "\n",
    "The very basic code is in the [Workbench repository](https://dev.azure.com/weatherballoon/Weather%20Balloon/_git/Workbench?path=%2Fweb-user-location)"
   ]
  },
  {
   "cell_type": "markdown",
   "metadata": {},
   "source": [
    "### GeoNames: Postcodes"
   ]
  },
  {
   "cell_type": "code",
   "execution_count": 21,
   "metadata": {},
   "outputs": [],
   "source": [
    "from urllib.request import urlopen, urlretrieve\n",
    "from zipfile import ZipFile\n",
    "from itertools import islice\n",
    "import pandas as pd\n",
    "import numpy as np\n",
    "import pycountry"
   ]
  },
  {
   "cell_type": "code",
   "execution_count": 26,
   "metadata": {},
   "outputs": [],
   "source": [
    "postcode_url = 'http://download.geonames.org/export/zip/AU.zip'\n",
    "postcode_download_file = 'data/postcodes.zip'\n",
    "postcode_out_file = 'data/postcodes.txt'"
   ]
  },
  {
   "cell_type": "code",
   "execution_count": 27,
   "metadata": {},
   "outputs": [
    {
     "data": {
      "text/plain": [
       "('data/postcodes.zip', <http.client.HTTPMessage at 0x110ba9c88>)"
      ]
     },
     "execution_count": 27,
     "metadata": {},
     "output_type": "execute_result"
    }
   ],
   "source": [
    "urlretrieve(postcode_url, postcode_download_file)"
   ]
  },
  {
   "cell_type": "code",
   "execution_count": 28,
   "metadata": {},
   "outputs": [],
   "source": [
    "with ZipFile(postcode_download_file) as zip_file:\n",
    "    with open(postcode_out_file, 'wb') as out_file:\n",
    "        out_file.write(zip_file.read('AU.txt'))"
   ]
  },
  {
   "cell_type": "code",
   "execution_count": 29,
   "metadata": {},
   "outputs": [
    {
     "data": {
      "text/plain": [
       "['AU\\t0200\\tAustralian National University\\tAustralian Capital Territory\\tACT\\tCANBERRA\\t\\t\\t\\t-35.2777\\t149.1189\\t1\\n',\n",
       " 'AU\\t0221\\tBarton\\tAustralian Capital Territory\\tACT\\t\\t\\t\\t\\t-35.3049\\t149.1412\\t4\\n',\n",
       " 'AU\\t2540\\tWreck Bay\\tAustralian Capital Territory\\tACT\\t\\t\\t\\t\\t-35.1627\\t150.6907\\t4\\n',\n",
       " 'AU\\t2540\\tJervis Bay\\tAustralian Capital Territory\\tACT\\tNEW CNTRY WEST\\t\\t\\t\\t-35.1333\\t150.7\\t4\\n',\n",
       " 'AU\\t2540\\tHmas Creswell\\tAustralian Capital Territory\\tACT\\tNEW CNTRY WEST\\t\\t\\t\\t-35.028\\t150.5501\\t3\\n',\n",
       " 'AU\\t2600\\tCanberra\\tAustralian Capital Territory\\tACT\\tCANBERRA\\t\\t\\t\\t-35.2835\\t149.1281\\t4\\n',\n",
       " 'AU\\t2600\\tYarralumla\\tAustralian Capital Territory\\tACT\\tCANBERRA\\t\\t\\t\\t-35.2998\\t149.1058\\t4\\n',\n",
       " 'AU\\t2600\\tRussell\\tAustralian Capital Territory\\tACT\\tCANBERRA\\t\\t\\t\\t-35.2977\\t149.151\\t4\\n',\n",
       " 'AU\\t2600\\tBarton\\tAustralian Capital Territory\\tACT\\tCANBERRA\\t\\t\\t\\t-35.3049\\t149.1412\\t4\\n',\n",
       " 'AU\\t2600\\tHarman\\tAustralian Capital Territory\\tACT\\tCANBERRA\\t\\t\\t\\t-35.35\\t149.2\\t4\\n']"
      ]
     },
     "execution_count": 29,
     "metadata": {},
     "output_type": "execute_result"
    }
   ],
   "source": [
    "with open(postcode_out_file) as myfile:\n",
    "    head = list(islice(myfile, 10))\n",
    "    \n",
    "head"
   ]
  },
  {
   "cell_type": "code",
   "execution_count": 32,
   "metadata": {},
   "outputs": [
    {
     "name": "stdout",
     "output_type": "stream",
     "text": [
      "-------------------------------------------------------------------------------\n",
      "<class 'pandas.core.frame.DataFrame'>\n",
      "RangeIndex: 16874 entries, 0 to 16873\n",
      "Data columns (total 8 columns):\n",
      "country_code    16874 non-null object\n",
      "postal_code     16874 non-null object\n",
      "place_name      16874 non-null object\n",
      "state           16874 non-null object\n",
      "lat             16874 non-null float64\n",
      "long            16874 non-null float64\n",
      "accuracy        16870 non-null object\n",
      "country         16874 non-null object\n",
      "dtypes: float64(2), object(6)\n",
      "memory usage: 1.0+ MB\n",
      "None\n",
      "-------------------------------------------------------------------------------\n",
      "                lat          long\n",
      "count  16874.000000  16874.000000\n",
      "mean     -32.108868    143.717291\n",
      "std        5.952857     10.718973\n",
      "min      -43.558300     96.862800\n",
      "25%      -36.033300    141.783300\n",
      "50%      -33.647200    146.966700\n",
      "75%      -28.633300    151.118250\n",
      "max      -10.120100    159.076800\n",
      "-------------------------------------------------------------------------------\n",
      "  country_code postal_code     place_name                         state  \\\n",
      "0           AU        0221         Barton  Australian Capital Territory   \n",
      "1           AU        2540      Wreck Bay  Australian Capital Territory   \n",
      "2           AU        2540     Jervis Bay  Australian Capital Territory   \n",
      "3           AU        2540  Hmas Creswell  Australian Capital Territory   \n",
      "4           AU        2600       Canberra  Australian Capital Territory   \n",
      "\n",
      "       lat      long accuracy    country  \n",
      "0 -35.3049  149.1412        4  Australia  \n",
      "1 -35.1627  150.6907        4  Australia  \n",
      "2 -35.1333  150.7000        4  Australia  \n",
      "3 -35.0280  150.5501        3  Australia  \n",
      "4 -35.2835  149.1281        4  Australia  \n",
      "-------------------------------------------------------------------------------\n"
     ]
    }
   ],
   "source": [
    "columns = {\n",
    "    'country_code': np.str,\n",
    "    'postal_code': np.str,\n",
    "    'place_name': np.str,\n",
    "    'state': np.str,\n",
    "    'admin_code1': np.str,\n",
    "    'admin_name2': np.str,\n",
    "    'admin_code2': np.str,\n",
    "    'admin_name3': np.str,\n",
    "    'admin_code3': np.str,\n",
    "    'lat': np.float64,\n",
    "    'long': np.float64,\n",
    "    'accuracy': np.str\n",
    "}\n",
    "\n",
    "df = pd.read_csv(postcode_out_file,\n",
    "                 sep='\\t',\n",
    "                 header=0,\n",
    "                 names=columns.keys(),\n",
    "                 dtype=columns,\n",
    "                 low_memory=False,\n",
    "                 usecols=['country_code', 'place_name',\n",
    "                          'state', 'postal_code', 'lat', 'long', 'accuracy'])\n",
    "\n",
    "df['country'] = df.apply(\n",
    "    lambda row: pycountry.countries.get(alpha_2=row['country_code']).name, axis=1)\n",
    "\n",
    "#with open(\"data/postcodes.json\", 'w') as f:\n",
    "#    f.write(df.to_json(orient='records'))\n",
    "\n",
    "print('-' * 79)\n",
    "print(df.info())\n",
    "print('-' * 79)\n",
    "print(df.describe())\n",
    "print('-' * 79)\n",
    "print(df.head(5))\n",
    "print('-' * 79)"
   ]
  },
  {
   "cell_type": "markdown",
   "metadata": {},
   "source": [
    "### Australian Bureau of Meteorology (BOM)\n",
    "\n",
    "[The AU BoM Data notebook](AU%20BoM%20Data.ipynb#Station-list) describes the BoM station list data."
   ]
  },
  {
   "cell_type": "markdown",
   "metadata": {},
   "source": [
    "### Azure Maps\n",
    "\n",
    "The [Azure Maps service](https://azure.microsoft.com/en-au/services/azure-maps/) provides a number of useful APIs.\n",
    "\n",
    "The following query for the suburb of \"Burpengary\": https://atlas.microsoft.com/search/address/json?api-version=1.0&query=burpengary&countrySet=AU&subscription-key=KEY\n",
    "\n",
    "Yielded the response below (snippet):\n",
    "\n",
    "````json\n",
    "  {\n",
    "    \"summary\": {\n",
    "      \"query\": \"burpengary\",\n",
    "      \"queryType\": \"NON_NEAR\",\n",
    "      \"queryTime\": 22,\n",
    "      \"numResults\": 6,\n",
    "      \"offset\": 0,\n",
    "      \"totalResults\": 6,\n",
    "      \"fuzzyLevel\": 1\n",
    "    },\n",
    "    \"results\": [\n",
    "      {\n",
    "        \"type\": \"Geography\",\n",
    "        \"id\": \"AU/GEO/p0/9961\",\n",
    "        \"score\": 4.5,\n",
    "        \"info\": \"search:ta:036043075000418-AU\",\n",
    "        \"entityType\": \"MunicipalitySubdivision\",\n",
    "        \"address\": {\n",
    "          \"municipalitySubdivision\": \"Burpengary\",\n",
    "          \"municipality\": \"Brisbane\",\n",
    "          \"countrySecondarySubdivision\": \"Brisbane\",\n",
    "          \"countrySubdivision\": \"Queensland\",\n",
    "          \"countryCode\": \"AU\",\n",
    "          \"country\": \"Australia\",\n",
    "          \"countryCodeISO3\": \"AUS\",\n",
    "          \"freeformAddress\": \"Brisbane Burpengary, Queensland\"\n",
    "        },\n",
    "        \"position\": {\n",
    "          \"lat\": -27.15282,\n",
    "          \"lon\": 152.97663\n",
    "        },\n",
    "        \"viewport\": {\n",
    "          \"topLeftPoint\": {\n",
    "            \"lat\": -27.12433,\n",
    "            \"lon\": 152.91752\n",
    "          },\n",
    "          \"btmRightPoint\": {\n",
    "            \"lat\": -27.18634,\n",
    "            \"lon\": 152.98447\n",
    "          }\n",
    "        },\n",
    "        \"boundingBox\": {\n",
    "          \"topLeftPoint\": {\n",
    "            \"lat\": -27.12433,\n",
    "            \"lon\": 152.91752\n",
    "          },\n",
    "          \"btmRightPoint\": {\n",
    "            \"lat\": -27.18634,\n",
    "            \"lon\": 152.98447\n",
    "          }\n",
    "        },\n",
    "        \"dataSources\": {\n",
    "          \"geometry\": {\n",
    "            \"id\": \"00005831-3200-1200-0000-00007d320280\"\n",
    "          }\n",
    "        }\n",
    "      }\n",
    "    ]\n",
    "  }\n",
    "````\n",
    "\n",
    "Entering just a postcode gives a reasonable result: https://atlas.microsoft.com/search/address/json?api-version=1.0&query=4000&countrySet=AU&subscription-key=KEY\n",
    "\n",
    "with the properties listing the suburbs covered by the postcode:\n",
    "\n",
    "    \"municipalitySubdivision\": \"Spring Hill, Petrie Terrace, Brisbane CBD\"\n",
    "    \n",
    "The [GeoLocation](https://docs.microsoft.com/en-gb/rest/api/maps/geolocation) feature is in preview and returns the ISO country code for an IP address. This isn't enough information to be useful for this work."
   ]
  },
  {
   "cell_type": "markdown",
   "metadata": {},
   "source": [
    "## Outcomes\n",
    "\n",
    "The work undertaken here helped me determine a direction for fulfilling the user story being explored:\n",
    "\n",
    "**As a user I want to locate my nearest weather station so that I can access observations and forecasts relevant to me**\n",
    "\n",
    "The GeoNames data was easily wrangled and gave a list postcodes for towns/suburbs.\n",
    "These could be put into a service such as Azure Search for\n",
    "easy lookups. There's a [webcast regarding Geo-spatial search with Azure Search]\n",
    "(https://azure.microsoft.com/en-us/resources/videos/azure-search-and-geospatial-data/)\n",
    "with the [EDM.GeographyPoint data type]\n",
    "(https://docs.microsoft.com/en-gb/rest/api/searchservice/Supported-data-types)\n",
    "in the index.\n",
    "\n",
    "The following approach will be taken:\n",
    "\n",
    "- Store the BOM weather station data in Azure Search.\n",
    "- Store the GeoNames postcode in Azure Search.\n",
    "- Provide the user with various UI inputs to help them find their closest\n",
    "  weather station:\n",
    "  - Pre-set weather stations for capital cities\n",
    "  - HTML 5 GeoLocation API\n",
    "  - Postcode lookup\n",
    "  - Suburb/town lookup (we don't need their full address)\n",
    "- Use Azure Search's Geo Spatial functionality to find nearby weather stations.\n",
    "\n",
    "The Azure Maps API appears to be a viable service for this work as well. I'll place the web lookups behind an API Gateway solution (Azure API Management), allowing me to replace the Azure Search at a latter date (if required). The rationale for preferencing the Azure Search approach is that I'll need to do it anyway for the weather station locations."
   ]
  },
  {
   "cell_type": "markdown",
   "metadata": {},
   "source": [
    "## Citations\n",
    "\n",
    "- The GeoNames data is licensed under a [Creative Commons Attribution 3.0\n",
    "  License](http://creativecommons.org/licenses/by/3.0/)\n",
    "\n",
    "- The Australian Bureau of Meteorology data is [Copyright Commonwealth of Australia 2018, Bureau of Meteorology](http://www.bom.gov.au/other/copyright.shtml?ref=ftr)"
   ]
  }
 ],
 "metadata": {
  "kernelspec": {
   "display_name": "Python 3",
   "language": "python",
   "name": "python3"
  },
  "language_info": {
   "codemirror_mode": {
    "name": "ipython",
    "version": 3
   },
   "file_extension": ".py",
   "mimetype": "text/x-python",
   "name": "python",
   "nbconvert_exporter": "python",
   "pygments_lexer": "ipython3",
   "version": "3.7.0"
  },
  "toc": {
   "base_numbering": 1,
   "nav_menu": {},
   "number_sections": true,
   "sideBar": true,
   "skip_h1_title": true,
   "title_cell": "Table of Contents",
   "title_sidebar": "Contents",
   "toc_cell": true,
   "toc_position": {},
   "toc_section_display": true,
   "toc_window_display": true
  }
 },
 "nbformat": 4,
 "nbformat_minor": 2
}
